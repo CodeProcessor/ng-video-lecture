{
 "cells": [
  {
   "cell_type": "code",
   "execution_count": 1,
   "id": "b91275c1-7c6b-456f-95ff-44e251e9bb3a",
   "metadata": {
    "ExecuteTime": {
     "end_time": "2024-04-21T08:19:57.537580Z",
     "start_time": "2024-04-21T08:19:57.535068Z"
    }
   },
   "outputs": [],
   "source": [
    "import torch\n",
    "import torch.nn.functional as F"
   ]
  },
  {
   "cell_type": "code",
   "execution_count": 2,
   "id": "ab520af4-be02-4910-a801-588494381784",
   "metadata": {
    "ExecuteTime": {
     "end_time": "2024-04-21T08:19:57.554964Z",
     "start_time": "2024-04-21T08:19:57.544898Z"
    }
   },
   "outputs": [
    {
     "data": {
      "text/plain": [
       "torch.Size([4, 8, 2])"
      ]
     },
     "execution_count": 2,
     "metadata": {},
     "output_type": "execute_result"
    }
   ],
   "source": [
    "\n",
    "torch.manual_seed(1337)\n",
    "B,T,C = 4,8,2\n",
    "\n",
    "x = torch.randn(B,T,C)\n",
    "# print(x)\n",
    "x.shape"
   ]
  },
  {
   "cell_type": "code",
   "execution_count": 3,
   "id": "5530c588-b3d5-4438-a536-4573943e8a22",
   "metadata": {
    "ExecuteTime": {
     "end_time": "2024-04-21T08:19:57.567508Z",
     "start_time": "2024-04-21T08:19:57.555824Z"
    }
   },
   "outputs": [],
   "source": [
    "x_bow = torch.zeros(B,T,C)\n",
    "\n",
    "for b in range(B):\n",
    "    for t in range(T):\n",
    "        x_prev = x[b,:t+1]\n",
    "        x_bow[b,t]=torch.mean(x_prev, 0)"
   ]
  },
  {
   "cell_type": "code",
   "execution_count": 4,
   "id": "84aacc07-ce27-4d47-90f0-b625aefe1849",
   "metadata": {
    "ExecuteTime": {
     "end_time": "2024-04-21T08:19:57.578084Z",
     "start_time": "2024-04-21T08:19:57.568505Z"
    }
   },
   "outputs": [
    {
     "name": "stdout",
     "output_type": "stream",
     "text": [
      "tensor([[ 1.3488, -0.1396],\n",
      "        [ 0.2858,  0.9651],\n",
      "        [-2.0371,  0.4931],\n",
      "        [ 1.4870,  0.5910],\n",
      "        [ 0.1260, -1.5627],\n",
      "        [-1.1601, -0.3348],\n",
      "        [ 0.4478, -0.8016],\n",
      "        [ 1.5236,  2.5086]])\n"
     ]
    },
    {
     "data": {
      "text/plain": [
       "tensor([[ 1.3488, -0.1396],\n",
       "        [ 0.8173,  0.4127],\n",
       "        [-0.1342,  0.4395],\n",
       "        [ 0.2711,  0.4774],\n",
       "        [ 0.2421,  0.0694],\n",
       "        [ 0.0084,  0.0020],\n",
       "        [ 0.0712, -0.1128],\n",
       "        [ 0.2527,  0.2149]])"
      ]
     },
     "execution_count": 4,
     "metadata": {},
     "output_type": "execute_result"
    }
   ],
   "source": [
    "print(x[1])\n",
    "x_bow[1]"
   ]
  },
  {
   "cell_type": "code",
   "execution_count": 5,
   "id": "7c65d9d0-dc4f-48fe-90a2-4a83e0cd05df",
   "metadata": {
    "ExecuteTime": {
     "end_time": "2024-04-21T08:19:57.582049Z",
     "start_time": "2024-04-21T08:19:57.578779Z"
    }
   },
   "outputs": [],
   "source": [
    "wei = torch.tril(torch.ones(T,T))\n",
    "wei = wei / wei.sum(1, keepdim=True)"
   ]
  },
  {
   "cell_type": "code",
   "execution_count": 6,
   "id": "5c168762-e5d2-4139-8a8d-9822c6456fbe",
   "metadata": {
    "ExecuteTime": {
     "end_time": "2024-04-21T08:19:57.586609Z",
     "start_time": "2024-04-21T08:19:57.582833Z"
    }
   },
   "outputs": [],
   "source": [
    "# x_bow2 = torch.zeros(B,T,C)\n",
    "\n",
    "# for b in range(B):\n",
    "#     x_prev = wei @ x[b] # (T, T) @ (T, C)\n",
    "#     x_bow2[b] = x_prev\n",
    "\n",
    "x_bow2 = wei @ x"
   ]
  },
  {
   "cell_type": "code",
   "execution_count": 7,
   "id": "f2c49996-a374-4d1c-8098-c7b0f0424b58",
   "metadata": {
    "ExecuteTime": {
     "end_time": "2024-04-21T08:19:57.591107Z",
     "start_time": "2024-04-21T08:19:57.587556Z"
    }
   },
   "outputs": [
    {
     "data": {
      "text/plain": [
       "torch.Size([4, 8, 2])"
      ]
     },
     "execution_count": 7,
     "metadata": {},
     "output_type": "execute_result"
    }
   ],
   "source": [
    "x_bow2.shape"
   ]
  },
  {
   "cell_type": "code",
   "execution_count": 8,
   "id": "3ea891a5-2d4d-424a-becf-55140ab1958b",
   "metadata": {
    "ExecuteTime": {
     "end_time": "2024-04-21T08:19:57.596915Z",
     "start_time": "2024-04-21T08:19:57.592740Z"
    }
   },
   "outputs": [
    {
     "data": {
      "text/plain": [
       "(tensor([[ 1.3488, -0.1396],\n",
       "         [ 0.8173,  0.4127],\n",
       "         [-0.1342,  0.4395],\n",
       "         [ 0.2711,  0.4774],\n",
       "         [ 0.2421,  0.0694],\n",
       "         [ 0.0084,  0.0020],\n",
       "         [ 0.0712, -0.1128],\n",
       "         [ 0.2527,  0.2149]]),\n",
       " tensor([[ 1.3488, -0.1396],\n",
       "         [ 0.8173,  0.4127],\n",
       "         [-0.1342,  0.4395],\n",
       "         [ 0.2711,  0.4774],\n",
       "         [ 0.2421,  0.0694],\n",
       "         [ 0.0084,  0.0020],\n",
       "         [ 0.0712, -0.1128],\n",
       "         [ 0.2527,  0.2149]]))"
      ]
     },
     "execution_count": 8,
     "metadata": {},
     "output_type": "execute_result"
    }
   ],
   "source": [
    "x_bow2[1], x_bow[1]"
   ]
  },
  {
   "cell_type": "code",
   "execution_count": 9,
   "id": "4089aa21-5bcd-4dce-ad70-f05c1f73b2ef",
   "metadata": {
    "ExecuteTime": {
     "end_time": "2024-04-21T08:19:57.602412Z",
     "start_time": "2024-04-21T08:19:57.598072Z"
    }
   },
   "outputs": [
    {
     "data": {
      "text/plain": [
       "True"
      ]
     },
     "execution_count": 9,
     "metadata": {},
     "output_type": "execute_result"
    }
   ],
   "source": [
    "torch.allclose(x_bow, x_bow2, atol=1e-06, rtol=1e-05)"
   ]
  },
  {
   "cell_type": "code",
   "execution_count": 10,
   "id": "5cb5d5cf-03e3-4771-af71-015308664dac",
   "metadata": {
    "ExecuteTime": {
     "end_time": "2024-04-21T08:19:57.641449Z",
     "start_time": "2024-04-21T08:19:57.629956Z"
    }
   },
   "outputs": [
    {
     "name": "stdout",
     "output_type": "stream",
     "text": [
      "tensor([[1.0000, 0.0000, 0.0000, 0.0000, 0.0000, 0.0000, 0.0000, 0.0000],\n",
      "        [0.5000, 0.5000, 0.0000, 0.0000, 0.0000, 0.0000, 0.0000, 0.0000],\n",
      "        [0.3333, 0.3333, 0.3333, 0.0000, 0.0000, 0.0000, 0.0000, 0.0000],\n",
      "        [0.2500, 0.2500, 0.2500, 0.2500, 0.0000, 0.0000, 0.0000, 0.0000],\n",
      "        [0.2000, 0.2000, 0.2000, 0.2000, 0.2000, 0.0000, 0.0000, 0.0000],\n",
      "        [0.1667, 0.1667, 0.1667, 0.1667, 0.1667, 0.1667, 0.0000, 0.0000],\n",
      "        [0.1429, 0.1429, 0.1429, 0.1429, 0.1429, 0.1429, 0.1429, 0.0000],\n",
      "        [0.1250, 0.1250, 0.1250, 0.1250, 0.1250, 0.1250, 0.1250, 0.1250]])\n"
     ]
    }
   ],
   "source": [
    "tril = torch.tril(torch.ones(T,T))\n",
    "wei = torch.ones(T,T)\n",
    "wei = wei.masked_fill(tril == 0, float('-inf'))\n",
    "wei = F.softmax(wei, dim=-1)\n",
    "print(wei)\n",
    "x_bow3 = wei @ x"
   ]
  },
  {
   "cell_type": "code",
   "execution_count": 11,
   "id": "463dd2ac-e89b-4438-9d11-801b2f66f220",
   "metadata": {
    "ExecuteTime": {
     "end_time": "2024-04-21T08:19:57.723494Z",
     "start_time": "2024-04-21T08:19:57.718796Z"
    }
   },
   "outputs": [
    {
     "data": {
      "text/plain": [
       "True"
      ]
     },
     "execution_count": 11,
     "metadata": {},
     "output_type": "execute_result"
    }
   ],
   "source": [
    "torch.allclose(x_bow, x_bow3, atol=1e-06, rtol=1e-05)"
   ]
  },
  {
   "cell_type": "code",
   "execution_count": null,
   "id": "56611565-c7fd-4939-8fc1-79eda7f06efd",
   "metadata": {
    "ExecuteTime": {
     "end_time": "2024-04-21T08:19:57.758604Z",
     "start_time": "2024-04-21T08:19:57.756663Z"
    }
   },
   "outputs": [],
   "source": []
  },
  {
   "cell_type": "code",
   "execution_count": 12,
   "id": "c831e06e-8413-457c-a564-eea1862b8137",
   "metadata": {
    "ExecuteTime": {
     "end_time": "2024-04-21T08:19:57.769498Z",
     "start_time": "2024-04-21T08:19:57.765795Z"
    }
   },
   "outputs": [
    {
     "name": "stdout",
     "output_type": "stream",
     "text": [
      "torch.Size([3, 2])\n",
      "torch.Size([2, 3, 2])\n"
     ]
    }
   ],
   "source": [
    "ten = torch.tensor([[1,2],[3,4],[5,6]])\n",
    "print(ten.shape)\n",
    "ten = torch.stack([ten, ten])\n",
    "print(ten.shape)"
   ]
  },
  {
   "cell_type": "markdown",
   "id": "71235664-d6c8-4ccb-a296-f0c25e0e7bb8",
   "metadata": {},
   "source": [
    "## Cross entorpy test"
   ]
  },
  {
   "cell_type": "code",
   "execution_count": 13,
   "id": "ccb2d4b4-3b57-4d6e-80ea-224ba909740f",
   "metadata": {
    "ExecuteTime": {
     "end_time": "2024-04-21T08:19:57.776125Z",
     "start_time": "2024-04-21T08:19:57.770738Z"
    }
   },
   "outputs": [
    {
     "name": "stdout",
     "output_type": "stream",
     "text": [
      "logits shape: torch.Size([1, 4]) - tensor([[0., 0., 0., 1.]])\n",
      "Target shape: torch.Size([1, 4]) - tensor([[0., 0., 1., 0.]])\n",
      "tensor(1.7437)\n"
     ]
    }
   ],
   "source": [
    "logits = torch.randn((1, 4))\n",
    "logits = torch.tensor([[0,0,0,1]], dtype=torch.float)\n",
    "targets = torch.tensor([[0,0,1,0]], dtype=torch.float)\n",
    "# targets = torch.randint(0, 4, (1,))\n",
    "print(f\"logits shape: {logits.shape} - {logits}\")\n",
    "print(f\"Target shape: {targets.shape} - {targets}\")\n",
    "ret = F.cross_entropy(logits, targets)\n",
    "print(ret)\n"
   ]
  },
  {
   "cell_type": "code",
   "execution_count": 14,
   "id": "23004d09-2f77-44f7-894b-5986b9b09b08",
   "metadata": {
    "ExecuteTime": {
     "end_time": "2024-04-21T08:19:57.780191Z",
     "start_time": "2024-04-21T08:19:57.776885Z"
    }
   },
   "outputs": [
    {
     "name": "stdout",
     "output_type": "stream",
     "text": [
      "tensor([[2, 1, 2, 1, 2, 2, 3, 0, 0, 2]])\n"
     ]
    }
   ],
   "source": [
    "\n",
    "logits_m = torch.tensor([[0.2,0.2,0.4,0.2]], dtype=torch.float)\n",
    "idx_next = torch.multinomial(logits_m, num_samples=10, replacement=True)\n",
    "print(idx_next)"
   ]
  },
  {
   "cell_type": "markdown",
   "id": "13e0b59c8a755a1",
   "metadata": {
    "collapsed": false
   },
   "source": [
    "## Back to Self Attention"
   ]
  },
  {
   "cell_type": "code",
   "execution_count": 15,
   "id": "d20a16d6-0f0c-4946-83ac-9dfcd0694f2c",
   "metadata": {
    "ExecuteTime": {
     "end_time": "2024-04-21T08:25:13.702318Z",
     "start_time": "2024-04-21T08:25:13.697369Z"
    }
   },
   "outputs": [
    {
     "data": {
      "text/plain": [
       "torch.Size([4, 8, 32])"
      ]
     },
     "execution_count": 15,
     "metadata": {},
     "output_type": "execute_result"
    }
   ],
   "source": [
    "import torch.nn as nn\n",
    "\n",
    "\n",
    "torch.manual_seed(1337)\n",
    "B,T,C = 4,8,32\n",
    "\n",
    "x = torch.randn(B,T,C)\n",
    "# print(x)\n",
    "x.shape"
   ]
  },
  {
   "cell_type": "code",
   "execution_count": 31,
   "id": "46809170-a476-42dc-ba14-6e6a766b4b94",
   "metadata": {
    "ExecuteTime": {
     "end_time": "2024-04-21T08:48:58.242747Z",
     "start_time": "2024-04-21T08:48:58.238590Z"
    }
   },
   "outputs": [],
   "source": [
    "### Let's see how single head perform self attention\n",
    "\n",
    "head_size = 16\n",
    "key = nn.Linear(C, head_size, bias=False)\n",
    "query = nn.Linear(C, head_size, bias=False)\n",
    "value = nn.Linear(C, head_size, bias=False)\n",
    "\n",
    "k = key(x) # (B, T, C) -> (B, T, H)\n",
    "q = query(x) # (B, T, C) -> (B, T, H)\n",
    "v = value(x) # (B, T, C) -> (B, T, H)\n",
    "wei = q @ k.transpose(1,2) * head_size**-0.5 # (B, T, H) @ (B, H, T) -> (B, T, T)\n",
    "\n",
    "tril = torch.tril(torch.ones(T, T))\n",
    "wei = wei.masked_fill(tril == 0, float('-inf')) # (B, T, T)\n",
    "wei = F.softmax(wei, dim=-1)\n",
    "out = wei @ v # (B, T, T) @ (B, T, C) -> (B, T, C)"
   ]
  },
  {
   "cell_type": "code",
   "execution_count": 32,
   "id": "5ff42636563c99f5",
   "metadata": {
    "collapsed": false,
    "ExecuteTime": {
     "end_time": "2024-04-21T08:48:58.730995Z",
     "start_time": "2024-04-21T08:48:58.722845Z"
    }
   },
   "outputs": [
    {
     "data": {
      "text/plain": "tensor([[[0.1097, 0.0911, 0.0841, 0.1163, 0.1970, 0.0668, 0.1125, 0.2224],\n         [0.0607, 0.1189, 0.1101, 0.1670, 0.1863, 0.1133, 0.1264, 0.1173],\n         [0.0943, 0.1137, 0.1480, 0.1122, 0.1300, 0.1291, 0.1243, 0.1485],\n         [0.1474, 0.1636, 0.0977, 0.1487, 0.1151, 0.1510, 0.1118, 0.0647],\n         [0.1788, 0.1536, 0.1348, 0.0648, 0.1254, 0.0996, 0.1036, 0.1395],\n         [0.0770, 0.1333, 0.1739, 0.0686, 0.1598, 0.0756, 0.1332, 0.1786],\n         [0.1853, 0.1340, 0.1158, 0.1295, 0.1070, 0.1192, 0.1124, 0.0968],\n         [0.1069, 0.0991, 0.1179, 0.1340, 0.1730, 0.1059, 0.1212, 0.1419]],\n\n        [[0.2106, 0.1120, 0.1458, 0.1403, 0.1225, 0.0921, 0.0849, 0.0917],\n         [0.1155, 0.1646, 0.1409, 0.1305, 0.0768, 0.1074, 0.1497, 0.1145],\n         [0.2243, 0.0637, 0.1222, 0.0937, 0.1749, 0.0955, 0.0942, 0.1315],\n         [0.1593, 0.0987, 0.1577, 0.0714, 0.1391, 0.0910, 0.1019, 0.1810],\n         [0.1316, 0.1208, 0.1327, 0.1202, 0.1110, 0.1234, 0.1209, 0.1394],\n         [0.0131, 0.2966, 0.0384, 0.1229, 0.0558, 0.0901, 0.1941, 0.1891],\n         [0.1432, 0.0840, 0.1815, 0.0872, 0.1954, 0.0475, 0.1326, 0.1285],\n         [0.0623, 0.1691, 0.0776, 0.1344, 0.0577, 0.1345, 0.2126, 0.1517]],\n\n        [[0.1079, 0.1179, 0.1320, 0.0676, 0.2724, 0.0964, 0.1505, 0.0554],\n         [0.1222, 0.1158, 0.1578, 0.1346, 0.0890, 0.1131, 0.1354, 0.1321],\n         [0.0780, 0.1606, 0.1799, 0.1618, 0.0699, 0.1320, 0.1349, 0.0829],\n         [0.0969, 0.1131, 0.1276, 0.1948, 0.0840, 0.1299, 0.1385, 0.1152],\n         [0.1273, 0.0949, 0.1020, 0.1644, 0.1806, 0.1102, 0.1388, 0.0817],\n         [0.0951, 0.0859, 0.0888, 0.2382, 0.0464, 0.1192, 0.1106, 0.2160],\n         [0.1279, 0.1748, 0.2166, 0.0927, 0.0688, 0.1161, 0.1635, 0.0397],\n         [0.1199, 0.1226, 0.1291, 0.1415, 0.1010, 0.1243, 0.1201, 0.1415]],\n\n        [[0.1139, 0.1177, 0.1074, 0.1279, 0.1082, 0.1071, 0.2177, 0.1001],\n         [0.1477, 0.1133, 0.1251, 0.0924, 0.1279, 0.1616, 0.1733, 0.0587],\n         [0.1284, 0.1671, 0.0574, 0.1079, 0.0725, 0.0540, 0.1893, 0.2233],\n         [0.1811, 0.1476, 0.1362, 0.0974, 0.0960, 0.1194, 0.0977, 0.1246],\n         [0.1223, 0.0694, 0.1455, 0.1032, 0.1113, 0.1581, 0.1263, 0.1639],\n         [0.1247, 0.1727, 0.1098, 0.1806, 0.1063, 0.0637, 0.1292, 0.1131],\n         [0.1054, 0.0696, 0.1103, 0.1808, 0.1364, 0.1614, 0.1060, 0.1301],\n         [0.0772, 0.0742, 0.1499, 0.2235, 0.1150, 0.0966, 0.0958, 0.1679]]],\n       grad_fn=<SoftmaxBackward0>)"
     },
     "execution_count": 32,
     "metadata": {},
     "output_type": "execute_result"
    }
   ],
   "source": [
    "wei"
   ]
  },
  {
   "cell_type": "code",
   "execution_count": null,
   "id": "d7a79cbc633898b3",
   "metadata": {
    "collapsed": false
   },
   "outputs": [],
   "source": []
  }
 ],
 "metadata": {
  "kernelspec": {
   "display_name": "Python 3 (ipykernel)",
   "language": "python",
   "name": "python3"
  },
  "language_info": {
   "codemirror_mode": {
    "name": "ipython",
    "version": 3
   },
   "file_extension": ".py",
   "mimetype": "text/x-python",
   "name": "python",
   "nbconvert_exporter": "python",
   "pygments_lexer": "ipython3",
   "version": "3.11.8"
  }
 },
 "nbformat": 4,
 "nbformat_minor": 5
}
