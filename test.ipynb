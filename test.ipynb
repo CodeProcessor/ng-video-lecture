{
 "cells": [
  {
   "cell_type": "code",
   "execution_count": 21,
   "id": "b91275c1-7c6b-456f-95ff-44e251e9bb3a",
   "metadata": {},
   "outputs": [],
   "source": [
    "import torch\n",
    "import torch.nn.functional as F"
   ]
  },
  {
   "cell_type": "code",
   "execution_count": 2,
   "id": "ab520af4-be02-4910-a801-588494381784",
   "metadata": {},
   "outputs": [
    {
     "data": {
      "text/plain": [
       "torch.Size([4, 8, 2])"
      ]
     },
     "execution_count": 2,
     "metadata": {},
     "output_type": "execute_result"
    }
   ],
   "source": [
    "\n",
    "torch.manual_seed(1337)\n",
    "B,T,C = 4,8,2\n",
    "\n",
    "x = torch.randn(B,T,C)\n",
    "# print(x)\n",
    "x.shape"
   ]
  },
  {
   "cell_type": "code",
   "execution_count": 3,
   "id": "5530c588-b3d5-4438-a536-4573943e8a22",
   "metadata": {},
   "outputs": [],
   "source": [
    "x_bow = torch.zeros(B,T,C)\n",
    "\n",
    "for b in range(B):\n",
    "    for t in range(T):\n",
    "        x_prev = x[b,:t+1]\n",
    "        x_bow[b,t]=torch.mean(x_prev, 0)"
   ]
  },
  {
   "cell_type": "code",
   "execution_count": 4,
   "id": "84aacc07-ce27-4d47-90f0-b625aefe1849",
   "metadata": {},
   "outputs": [
    {
     "name": "stdout",
     "output_type": "stream",
     "text": [
      "tensor([[ 1.3488, -0.1396],\n",
      "        [ 0.2858,  0.9651],\n",
      "        [-2.0371,  0.4931],\n",
      "        [ 1.4870,  0.5910],\n",
      "        [ 0.1260, -1.5627],\n",
      "        [-1.1601, -0.3348],\n",
      "        [ 0.4478, -0.8016],\n",
      "        [ 1.5236,  2.5086]])\n"
     ]
    },
    {
     "data": {
      "text/plain": [
       "tensor([[ 1.3488, -0.1396],\n",
       "        [ 0.8173,  0.4127],\n",
       "        [-0.1342,  0.4395],\n",
       "        [ 0.2711,  0.4774],\n",
       "        [ 0.2421,  0.0694],\n",
       "        [ 0.0084,  0.0020],\n",
       "        [ 0.0712, -0.1128],\n",
       "        [ 0.2527,  0.2149]])"
      ]
     },
     "execution_count": 4,
     "metadata": {},
     "output_type": "execute_result"
    }
   ],
   "source": [
    "print(x[1])\n",
    "x_bow[1]"
   ]
  },
  {
   "cell_type": "code",
   "execution_count": 5,
   "id": "7c65d9d0-dc4f-48fe-90a2-4a83e0cd05df",
   "metadata": {},
   "outputs": [],
   "source": [
    "wei = torch.tril(torch.ones(T,T))\n",
    "wei = wei / wei.sum(1, keepdim=True)"
   ]
  },
  {
   "cell_type": "code",
   "execution_count": 6,
   "id": "5c168762-e5d2-4139-8a8d-9822c6456fbe",
   "metadata": {},
   "outputs": [],
   "source": [
    "# x_bow2 = torch.zeros(B,T,C)\n",
    "\n",
    "# for b in range(B):\n",
    "#     x_prev = wei @ x[b] # (T, T) @ (T, C)\n",
    "#     x_bow2[b] = x_prev\n",
    "\n",
    "x_bow2 = wei @ x"
   ]
  },
  {
   "cell_type": "code",
   "execution_count": 10,
   "id": "f2c49996-a374-4d1c-8098-c7b0f0424b58",
   "metadata": {},
   "outputs": [
    {
     "data": {
      "text/plain": [
       "torch.Size([4, 8, 2])"
      ]
     },
     "execution_count": 10,
     "metadata": {},
     "output_type": "execute_result"
    }
   ],
   "source": [
    "x_bow2.shape"
   ]
  },
  {
   "cell_type": "code",
   "execution_count": 8,
   "id": "3ea891a5-2d4d-424a-becf-55140ab1958b",
   "metadata": {},
   "outputs": [
    {
     "data": {
      "text/plain": [
       "(tensor([[ 1.3488, -0.1396],\n",
       "         [ 0.8173,  0.4127],\n",
       "         [-0.1342,  0.4395],\n",
       "         [ 0.2711,  0.4774],\n",
       "         [ 0.2421,  0.0694],\n",
       "         [ 0.0084,  0.0020],\n",
       "         [ 0.0712, -0.1128],\n",
       "         [ 0.2527,  0.2149]]),\n",
       " tensor([[ 1.3488, -0.1396],\n",
       "         [ 0.8173,  0.4127],\n",
       "         [-0.1342,  0.4395],\n",
       "         [ 0.2711,  0.4774],\n",
       "         [ 0.2421,  0.0694],\n",
       "         [ 0.0084,  0.0020],\n",
       "         [ 0.0712, -0.1128],\n",
       "         [ 0.2527,  0.2149]]))"
      ]
     },
     "execution_count": 8,
     "metadata": {},
     "output_type": "execute_result"
    }
   ],
   "source": [
    "x_bow2[1], x_bow[1]"
   ]
  },
  {
   "cell_type": "code",
   "execution_count": 16,
   "id": "4089aa21-5bcd-4dce-ad70-f05c1f73b2ef",
   "metadata": {},
   "outputs": [
    {
     "data": {
      "text/plain": [
       "True"
      ]
     },
     "execution_count": 16,
     "metadata": {},
     "output_type": "execute_result"
    }
   ],
   "source": [
    "torch.allclose(x_bow, x_bow2, atol=1e-06, rtol=1e-05)"
   ]
  },
  {
   "cell_type": "code",
   "execution_count": 34,
   "id": "5cb5d5cf-03e3-4771-af71-015308664dac",
   "metadata": {},
   "outputs": [
    {
     "name": "stdout",
     "output_type": "stream",
     "text": [
      "tensor([[1.0000, 0.0000, 0.0000, 0.0000, 0.0000, 0.0000, 0.0000, 0.0000],\n",
      "        [0.5000, 0.5000, 0.0000, 0.0000, 0.0000, 0.0000, 0.0000, 0.0000],\n",
      "        [0.3333, 0.3333, 0.3333, 0.0000, 0.0000, 0.0000, 0.0000, 0.0000],\n",
      "        [0.2500, 0.2500, 0.2500, 0.2500, 0.0000, 0.0000, 0.0000, 0.0000],\n",
      "        [0.2000, 0.2000, 0.2000, 0.2000, 0.2000, 0.0000, 0.0000, 0.0000],\n",
      "        [0.1667, 0.1667, 0.1667, 0.1667, 0.1667, 0.1667, 0.0000, 0.0000],\n",
      "        [0.1429, 0.1429, 0.1429, 0.1429, 0.1429, 0.1429, 0.1429, 0.0000],\n",
      "        [0.1250, 0.1250, 0.1250, 0.1250, 0.1250, 0.1250, 0.1250, 0.1250]])\n"
     ]
    }
   ],
   "source": [
    "tril = torch.tril(torch.ones(T,T))\n",
    "wei = torch.ones(T,T)\n",
    "wei = wei.masked_fill(tril == 0, float('-inf'))\n",
    "wei = F.softmax(wei, dim=-1)\n",
    "print(wei)\n",
    "x_bow3 = wei @ x"
   ]
  },
  {
   "cell_type": "code",
   "execution_count": 35,
   "id": "463dd2ac-e89b-4438-9d11-801b2f66f220",
   "metadata": {},
   "outputs": [
    {
     "data": {
      "text/plain": [
       "True"
      ]
     },
     "execution_count": 35,
     "metadata": {},
     "output_type": "execute_result"
    }
   ],
   "source": [
    "torch.allclose(x_bow, x_bow3, atol=1e-06, rtol=1e-05)"
   ]
  },
  {
   "cell_type": "code",
   "execution_count": null,
   "id": "56611565-c7fd-4939-8fc1-79eda7f06efd",
   "metadata": {},
   "outputs": [],
   "source": []
  },
  {
   "cell_type": "code",
   "execution_count": 42,
   "id": "c831e06e-8413-457c-a564-eea1862b8137",
   "metadata": {},
   "outputs": [
    {
     "name": "stdout",
     "output_type": "stream",
     "text": [
      "torch.Size([3, 2])\n",
      "torch.Size([2, 3, 2])\n"
     ]
    }
   ],
   "source": [
    "ten = torch.tensor([[1,2],[3,4],[5,6]])\n",
    "print(ten.shape)\n",
    "ten = torch.stack([ten, ten])\n",
    "print(ten.shape)"
   ]
  },
  {
   "cell_type": "markdown",
   "id": "71235664-d6c8-4ccb-a296-f0c25e0e7bb8",
   "metadata": {},
   "source": [
    "## Cross entorpy test"
   ]
  },
  {
   "cell_type": "code",
   "execution_count": 43,
   "id": "ccb2d4b4-3b57-4d6e-80ea-224ba909740f",
   "metadata": {},
   "outputs": [
    {
     "name": "stdout",
     "output_type": "stream",
     "text": [
      "logits shape: torch.Size([1, 4]) - tensor([[0., 0., 0., 1.]])\n",
      "Target shape: torch.Size([1, 4]) - tensor([[0., 0., 1., 0.]])\n",
      "tensor(1.7437)\n"
     ]
    }
   ],
   "source": [
    "logits = torch.randn((1, 4))\n",
    "logits = torch.tensor([[0,0,0,1]], dtype=torch.float)\n",
    "targets = torch.tensor([[0,0,1,0]], dtype=torch.float)\n",
    "# targets = torch.randint(0, 4, (1,))\n",
    "print(f\"logits shape: {logits.shape} - {logits}\")\n",
    "print(f\"Target shape: {targets.shape} - {targets}\")\n",
    "ret = F.cross_entropy(logits, targets)\n",
    "print(ret)\n"
   ]
  },
  {
   "cell_type": "code",
   "execution_count": 81,
   "id": "23004d09-2f77-44f7-894b-5986b9b09b08",
   "metadata": {},
   "outputs": [
    {
     "name": "stdout",
     "output_type": "stream",
     "text": [
      "tensor([[2, 2, 2, 1, 0, 2, 2, 1, 2, 1]])\n"
     ]
    }
   ],
   "source": [
    "\n",
    "logits_m = torch.tensor([[0.2,0.2,0.4,0.2]], dtype=torch.float)\n",
    "idx_next = torch.multinomial(logits_m, num_samples=10, replacement=True)\n",
    "print(idx_next)"
   ]
  },
  {
   "cell_type": "code",
   "execution_count": null,
   "id": "d20a16d6-0f0c-4946-83ac-9dfcd0694f2c",
   "metadata": {},
   "outputs": [],
   "source": []
  },
  {
   "cell_type": "code",
   "execution_count": null,
   "id": "46809170-a476-42dc-ba14-6e6a766b4b94",
   "metadata": {},
   "outputs": [],
   "source": []
  }
 ],
 "metadata": {
  "kernelspec": {
   "display_name": "Python 3 (ipykernel)",
   "language": "python",
   "name": "python3"
  },
  "language_info": {
   "codemirror_mode": {
    "name": "ipython",
    "version": 3
   },
   "file_extension": ".py",
   "mimetype": "text/x-python",
   "name": "python",
   "nbconvert_exporter": "python",
   "pygments_lexer": "ipython3",
   "version": "3.11.8"
  }
 },
 "nbformat": 4,
 "nbformat_minor": 5
}
